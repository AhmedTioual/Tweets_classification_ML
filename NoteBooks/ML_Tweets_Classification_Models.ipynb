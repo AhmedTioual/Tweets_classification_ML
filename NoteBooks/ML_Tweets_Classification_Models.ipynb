{
  "nbformat": 4,
  "nbformat_minor": 0,
  "metadata": {
    "colab": {
      "provenance": [],
      "collapsed_sections": [
        "Q9YSvjYMF18q",
        "X_eVulPHF58x",
        "EkcMvHwCGBDl",
        "8s6_gkQ3GK9B",
        "NFeRChGxGZA0",
        "_7uMZQmHGm3u",
        "lbsmIhEQmq8x",
        "nQ3V12k3OeqM",
        "U5sBz552nLYv",
        "gvTt9MfEGseT",
        "JC7ChpMlOpNE",
        "q_3BWFlKSgWk",
        "1tSr_9_PnBR4",
        "a_Eq7K_ynCAh"
      ],
      "gpuType": "T4"
    },
    "kernelspec": {
      "name": "python3",
      "display_name": "Python 3"
    },
    "language_info": {
      "name": "python"
    },
    "accelerator": "GPU"
  },
  "cells": [
    {
      "cell_type": "markdown",
      "source": [
        "# Import Packages"
      ],
      "metadata": {
        "id": "Q9YSvjYMF18q"
      }
    },
    {
      "cell_type": "code",
      "execution_count": null,
      "metadata": {
        "id": "gZoRS_wKg-TS"
      },
      "outputs": [],
      "source": [
        "import pandas as pd\n",
        "from sklearn.feature_extraction.text import TfidfVectorizer\n",
        "from sklearn.naive_bayes import MultinomialNB\n",
        "from sklearn.model_selection import train_test_split,StratifiedKFold,cross_val_score,RandomizedSearchCV\n",
        "from sklearn.metrics import classification_report, accuracy_score\n",
        "from sklearn.svm import SVC\n",
        "import matplotlib.pyplot as plt\n",
        "from sklearn.feature_extraction.text import CountVectorizer\n",
        "from sklearn.ensemble import RandomForestClassifier\n",
        "from sklearn.tree import DecisionTreeClassifier\n",
        "from scipy.stats import randint\n",
        "import joblib\n",
        "from sklearn.metrics import accuracy_score, precision_score, recall_score, f1_score\n",
        "from sklearn.linear_model import LogisticRegression\n",
        "import numpy as np"
      ]
    },
    {
      "cell_type": "markdown",
      "source": [
        "# ML pipeline Functions"
      ],
      "metadata": {
        "id": "X_eVulPHF58x"
      }
    },
    {
      "cell_type": "markdown",
      "source": [
        "## Feature Extraction Function TF-IDF / BoW"
      ],
      "metadata": {
        "id": "EkcMvHwCGBDl"
      }
    },
    {
      "cell_type": "code",
      "source": [
        "def feature_extraction(data,vectorizer=TfidfVectorizer()):\n",
        "    vectorizer = vectorizer\n",
        "    X = vectorizer.fit_transform(data['tweet'])\n",
        "    y = data['topic']\n",
        "    return X, y, vectorizer"
      ],
      "metadata": {
        "id": "aj06Y45EF-Xx"
      },
      "execution_count": null,
      "outputs": []
    },
    {
      "cell_type": "markdown",
      "source": [
        "## Split Data Into Training, Validation, and Test Sets"
      ],
      "metadata": {
        "id": "8s6_gkQ3GK9B"
      }
    },
    {
      "cell_type": "code",
      "source": [
        "# Split data into training, validation, and test sets\n",
        "def split_data(X, y, test_size=0.2, val_size=0.1, random_state=42):\n",
        "    X_train_full, X_test, y_train_full, y_test = train_test_split(X, y, test_size=test_size, random_state=random_state)\n",
        "    X_train, X_val, y_train, y_val = train_test_split(X_train_full, y_train_full, test_size=val_size, random_state=random_state)\n",
        "    return X_train, X_val, X_test, y_train, y_val, y_test"
      ],
      "metadata": {
        "id": "foGYtjjYGRdQ"
      },
      "execution_count": null,
      "outputs": []
    },
    {
      "cell_type": "markdown",
      "source": [
        "## Model Training And Evaluation"
      ],
      "metadata": {
        "id": "NFeRChGxGZA0"
      }
    },
    {
      "cell_type": "code",
      "source": [
        "# Model Training and Evaluation\n",
        "def train_evaluate_model(X_train, y_train, X_val, y_val,algorithm):\n",
        "    classifier = algorithm\n",
        "    classifier.fit(X_train, y_train)\n",
        "    y_val_pred = classifier.predict(X_val)\n",
        "    accuracy = accuracy_score(y_val, y_val_pred)\n",
        "    report = classification_report(y_val, y_val_pred)\n",
        "    return classifier, accuracy, report"
      ],
      "metadata": {
        "id": "6ksrzTroGgE5"
      },
      "execution_count": null,
      "outputs": []
    },
    {
      "cell_type": "markdown",
      "source": [
        "## Hyperparameter Tuning"
      ],
      "metadata": {
        "id": "_7uMZQmHGm3u"
      }
    },
    {
      "cell_type": "code",
      "source": [
        "def tune_hyperparameters_random(X_train, y_train, n_iter=50, random_state=42,param_dist=None,classifier=None):\n",
        "    param_dist = param_dist\n",
        "    classifier = classifier\n",
        "    random_search = RandomizedSearchCV(estimator=classifier, param_distributions=param_dist, n_iter=n_iter, cv=5, random_state=random_state)\n",
        "    random_search.fit(X_train, y_train)\n",
        "    return random_search.best_estimator_, random_search.best_params_"
      ],
      "metadata": {
        "id": "VW_Pkf6wGovo"
      },
      "execution_count": null,
      "outputs": []
    },
    {
      "cell_type": "markdown",
      "source": [
        "## Model Evaluation"
      ],
      "metadata": {
        "id": "lbsmIhEQmq8x"
      }
    },
    {
      "cell_type": "code",
      "source": [
        "def evaluate_model(y_true, y_pred,model):\n",
        "    accuracy = accuracy_score(y_true, y_pred)\n",
        "    precision = precision_score(y_true, y_pred, average='weighted')\n",
        "    recall = recall_score(y_true, y_pred, average='weighted')\n",
        "    f1 = f1_score(y_true, y_pred, average='weighted')\n",
        "\n",
        "    return {\n",
        "        'modelName':model,\n",
        "        'accuracy': accuracy,\n",
        "        'precision': precision,\n",
        "        'recall': recall,\n",
        "        'f1_score': f1\n",
        "    }"
      ],
      "metadata": {
        "id": "I9cL_ALYmt31"
      },
      "execution_count": null,
      "outputs": []
    },
    {
      "cell_type": "markdown",
      "source": [
        "# Load ,Feature Extraction andSplit Data"
      ],
      "metadata": {
        "id": "nQ3V12k3OeqM"
      }
    },
    {
      "cell_type": "code",
      "source": [
        "# Load and preprocess data\n",
        "processed_data = pd.read_csv('/content/tweetsData.csv')"
      ],
      "metadata": {
        "id": "oXEjogCROcst"
      },
      "execution_count": null,
      "outputs": []
    },
    {
      "cell_type": "code",
      "source": [
        "processed_data.head()"
      ],
      "metadata": {
        "colab": {
          "base_uri": "https://localhost:8080/",
          "height": 539
        },
        "id": "onTmGRwjsKkD",
        "outputId": "5a54c7b7-e742-4a91-88b7-6a4c057208b4"
      },
      "execution_count": null,
      "outputs": [
        {
          "output_type": "execute_result",
          "data": {
            "text/plain": [
              "                                               tweet lang    topic\n",
              "0        تضخم سنو مغرب تباطأ خلال ما توجه اقتصاد عام   ar  Economy\n",
              "1  طبيق مغرب اتفاق جار ريطانيا نفس امتياز اتفاق م...   ar  Economy\n",
              "2  extensive exchange eib step eu eib work morocc...   en  Economy\n",
              "3  صور سلا كهرباء ضح نه حدى دول مغرب عرب فساد سوء...   ar  Economy\n",
              "4  التجارةالخارجية رقم قياس تاريخ تجار ثنائ إسبان...   ar  Economy"
            ],
            "text/html": [
              "\n",
              "  <div id=\"df-72b181c8-f093-4583-9299-2a5f71b766b4\" class=\"colab-df-container\">\n",
              "    <div>\n",
              "<style scoped>\n",
              "    .dataframe tbody tr th:only-of-type {\n",
              "        vertical-align: middle;\n",
              "    }\n",
              "\n",
              "    .dataframe tbody tr th {\n",
              "        vertical-align: top;\n",
              "    }\n",
              "\n",
              "    .dataframe thead th {\n",
              "        text-align: right;\n",
              "    }\n",
              "</style>\n",
              "<table border=\"1\" class=\"dataframe\">\n",
              "  <thead>\n",
              "    <tr style=\"text-align: right;\">\n",
              "      <th></th>\n",
              "      <th>tweet</th>\n",
              "      <th>lang</th>\n",
              "      <th>topic</th>\n",
              "    </tr>\n",
              "  </thead>\n",
              "  <tbody>\n",
              "    <tr>\n",
              "      <th>0</th>\n",
              "      <td>تضخم سنو مغرب تباطأ خلال ما توجه اقتصاد عام</td>\n",
              "      <td>ar</td>\n",
              "      <td>Economy</td>\n",
              "    </tr>\n",
              "    <tr>\n",
              "      <th>1</th>\n",
              "      <td>طبيق مغرب اتفاق جار ريطانيا نفس امتياز اتفاق م...</td>\n",
              "      <td>ar</td>\n",
              "      <td>Economy</td>\n",
              "    </tr>\n",
              "    <tr>\n",
              "      <th>2</th>\n",
              "      <td>extensive exchange eib step eu eib work morocc...</td>\n",
              "      <td>en</td>\n",
              "      <td>Economy</td>\n",
              "    </tr>\n",
              "    <tr>\n",
              "      <th>3</th>\n",
              "      <td>صور سلا كهرباء ضح نه حدى دول مغرب عرب فساد سوء...</td>\n",
              "      <td>ar</td>\n",
              "      <td>Economy</td>\n",
              "    </tr>\n",
              "    <tr>\n",
              "      <th>4</th>\n",
              "      <td>التجارةالخارجية رقم قياس تاريخ تجار ثنائ إسبان...</td>\n",
              "      <td>ar</td>\n",
              "      <td>Economy</td>\n",
              "    </tr>\n",
              "  </tbody>\n",
              "</table>\n",
              "</div>\n",
              "    <div class=\"colab-df-buttons\">\n",
              "\n",
              "  <div class=\"colab-df-container\">\n",
              "    <button class=\"colab-df-convert\" onclick=\"convertToInteractive('df-72b181c8-f093-4583-9299-2a5f71b766b4')\"\n",
              "            title=\"Convert this dataframe to an interactive table.\"\n",
              "            style=\"display:none;\">\n",
              "\n",
              "  <svg xmlns=\"http://www.w3.org/2000/svg\" height=\"24px\" viewBox=\"0 -960 960 960\">\n",
              "    <path d=\"M120-120v-720h720v720H120Zm60-500h600v-160H180v160Zm220 220h160v-160H400v160Zm0 220h160v-160H400v160ZM180-400h160v-160H180v160Zm440 0h160v-160H620v160ZM180-180h160v-160H180v160Zm440 0h160v-160H620v160Z\"/>\n",
              "  </svg>\n",
              "    </button>\n",
              "\n",
              "  <style>\n",
              "    .colab-df-container {\n",
              "      display:flex;\n",
              "      gap: 12px;\n",
              "    }\n",
              "\n",
              "    .colab-df-convert {\n",
              "      background-color: #E8F0FE;\n",
              "      border: none;\n",
              "      border-radius: 50%;\n",
              "      cursor: pointer;\n",
              "      display: none;\n",
              "      fill: #1967D2;\n",
              "      height: 32px;\n",
              "      padding: 0 0 0 0;\n",
              "      width: 32px;\n",
              "    }\n",
              "\n",
              "    .colab-df-convert:hover {\n",
              "      background-color: #E2EBFA;\n",
              "      box-shadow: 0px 1px 2px rgba(60, 64, 67, 0.3), 0px 1px 3px 1px rgba(60, 64, 67, 0.15);\n",
              "      fill: #174EA6;\n",
              "    }\n",
              "\n",
              "    .colab-df-buttons div {\n",
              "      margin-bottom: 4px;\n",
              "    }\n",
              "\n",
              "    [theme=dark] .colab-df-convert {\n",
              "      background-color: #3B4455;\n",
              "      fill: #D2E3FC;\n",
              "    }\n",
              "\n",
              "    [theme=dark] .colab-df-convert:hover {\n",
              "      background-color: #434B5C;\n",
              "      box-shadow: 0px 1px 3px 1px rgba(0, 0, 0, 0.15);\n",
              "      filter: drop-shadow(0px 1px 2px rgba(0, 0, 0, 0.3));\n",
              "      fill: #FFFFFF;\n",
              "    }\n",
              "  </style>\n",
              "\n",
              "    <script>\n",
              "      const buttonEl =\n",
              "        document.querySelector('#df-72b181c8-f093-4583-9299-2a5f71b766b4 button.colab-df-convert');\n",
              "      buttonEl.style.display =\n",
              "        google.colab.kernel.accessAllowed ? 'block' : 'none';\n",
              "\n",
              "      async function convertToInteractive(key) {\n",
              "        const element = document.querySelector('#df-72b181c8-f093-4583-9299-2a5f71b766b4');\n",
              "        const dataTable =\n",
              "          await google.colab.kernel.invokeFunction('convertToInteractive',\n",
              "                                                    [key], {});\n",
              "        if (!dataTable) return;\n",
              "\n",
              "        const docLinkHtml = 'Like what you see? Visit the ' +\n",
              "          '<a target=\"_blank\" href=https://colab.research.google.com/notebooks/data_table.ipynb>data table notebook</a>'\n",
              "          + ' to learn more about interactive tables.';\n",
              "        element.innerHTML = '';\n",
              "        dataTable['output_type'] = 'display_data';\n",
              "        await google.colab.output.renderOutput(dataTable, element);\n",
              "        const docLink = document.createElement('div');\n",
              "        docLink.innerHTML = docLinkHtml;\n",
              "        element.appendChild(docLink);\n",
              "      }\n",
              "    </script>\n",
              "  </div>\n",
              "\n",
              "\n",
              "<div id=\"df-320255a3-c47f-422b-ad07-31b8ed0a00bc\">\n",
              "  <button class=\"colab-df-quickchart\" onclick=\"quickchart('df-320255a3-c47f-422b-ad07-31b8ed0a00bc')\"\n",
              "            title=\"Suggest charts\"\n",
              "            style=\"display:none;\">\n",
              "\n",
              "<svg xmlns=\"http://www.w3.org/2000/svg\" height=\"24px\"viewBox=\"0 0 24 24\"\n",
              "     width=\"24px\">\n",
              "    <g>\n",
              "        <path d=\"M19 3H5c-1.1 0-2 .9-2 2v14c0 1.1.9 2 2 2h14c1.1 0 2-.9 2-2V5c0-1.1-.9-2-2-2zM9 17H7v-7h2v7zm4 0h-2V7h2v10zm4 0h-2v-4h2v4z\"/>\n",
              "    </g>\n",
              "</svg>\n",
              "  </button>\n",
              "\n",
              "<style>\n",
              "  .colab-df-quickchart {\n",
              "      --bg-color: #E8F0FE;\n",
              "      --fill-color: #1967D2;\n",
              "      --hover-bg-color: #E2EBFA;\n",
              "      --hover-fill-color: #174EA6;\n",
              "      --disabled-fill-color: #AAA;\n",
              "      --disabled-bg-color: #DDD;\n",
              "  }\n",
              "\n",
              "  [theme=dark] .colab-df-quickchart {\n",
              "      --bg-color: #3B4455;\n",
              "      --fill-color: #D2E3FC;\n",
              "      --hover-bg-color: #434B5C;\n",
              "      --hover-fill-color: #FFFFFF;\n",
              "      --disabled-bg-color: #3B4455;\n",
              "      --disabled-fill-color: #666;\n",
              "  }\n",
              "\n",
              "  .colab-df-quickchart {\n",
              "    background-color: var(--bg-color);\n",
              "    border: none;\n",
              "    border-radius: 50%;\n",
              "    cursor: pointer;\n",
              "    display: none;\n",
              "    fill: var(--fill-color);\n",
              "    height: 32px;\n",
              "    padding: 0;\n",
              "    width: 32px;\n",
              "  }\n",
              "\n",
              "  .colab-df-quickchart:hover {\n",
              "    background-color: var(--hover-bg-color);\n",
              "    box-shadow: 0 1px 2px rgba(60, 64, 67, 0.3), 0 1px 3px 1px rgba(60, 64, 67, 0.15);\n",
              "    fill: var(--button-hover-fill-color);\n",
              "  }\n",
              "\n",
              "  .colab-df-quickchart-complete:disabled,\n",
              "  .colab-df-quickchart-complete:disabled:hover {\n",
              "    background-color: var(--disabled-bg-color);\n",
              "    fill: var(--disabled-fill-color);\n",
              "    box-shadow: none;\n",
              "  }\n",
              "\n",
              "  .colab-df-spinner {\n",
              "    border: 2px solid var(--fill-color);\n",
              "    border-color: transparent;\n",
              "    border-bottom-color: var(--fill-color);\n",
              "    animation:\n",
              "      spin 1s steps(1) infinite;\n",
              "  }\n",
              "\n",
              "  @keyframes spin {\n",
              "    0% {\n",
              "      border-color: transparent;\n",
              "      border-bottom-color: var(--fill-color);\n",
              "      border-left-color: var(--fill-color);\n",
              "    }\n",
              "    20% {\n",
              "      border-color: transparent;\n",
              "      border-left-color: var(--fill-color);\n",
              "      border-top-color: var(--fill-color);\n",
              "    }\n",
              "    30% {\n",
              "      border-color: transparent;\n",
              "      border-left-color: var(--fill-color);\n",
              "      border-top-color: var(--fill-color);\n",
              "      border-right-color: var(--fill-color);\n",
              "    }\n",
              "    40% {\n",
              "      border-color: transparent;\n",
              "      border-right-color: var(--fill-color);\n",
              "      border-top-color: var(--fill-color);\n",
              "    }\n",
              "    60% {\n",
              "      border-color: transparent;\n",
              "      border-right-color: var(--fill-color);\n",
              "    }\n",
              "    80% {\n",
              "      border-color: transparent;\n",
              "      border-right-color: var(--fill-color);\n",
              "      border-bottom-color: var(--fill-color);\n",
              "    }\n",
              "    90% {\n",
              "      border-color: transparent;\n",
              "      border-bottom-color: var(--fill-color);\n",
              "    }\n",
              "  }\n",
              "</style>\n",
              "\n",
              "  <script>\n",
              "    async function quickchart(key) {\n",
              "      const quickchartButtonEl =\n",
              "        document.querySelector('#' + key + ' button');\n",
              "      quickchartButtonEl.disabled = true;  // To prevent multiple clicks.\n",
              "      quickchartButtonEl.classList.add('colab-df-spinner');\n",
              "      try {\n",
              "        const charts = await google.colab.kernel.invokeFunction(\n",
              "            'suggestCharts', [key], {});\n",
              "      } catch (error) {\n",
              "        console.error('Error during call to suggestCharts:', error);\n",
              "      }\n",
              "      quickchartButtonEl.classList.remove('colab-df-spinner');\n",
              "      quickchartButtonEl.classList.add('colab-df-quickchart-complete');\n",
              "    }\n",
              "    (() => {\n",
              "      let quickchartButtonEl =\n",
              "        document.querySelector('#df-320255a3-c47f-422b-ad07-31b8ed0a00bc button');\n",
              "      quickchartButtonEl.style.display =\n",
              "        google.colab.kernel.accessAllowed ? 'block' : 'none';\n",
              "    })();\n",
              "  </script>\n",
              "</div>\n",
              "\n",
              "    </div>\n",
              "  </div>\n"
            ],
            "application/vnd.google.colaboratory.intrinsic+json": {
              "type": "dataframe",
              "variable_name": "processed_data",
              "summary": "{\n  \"name\": \"processed_data\",\n  \"rows\": 14416,\n  \"fields\": [\n    {\n      \"column\": \"tweet\",\n      \"properties\": {\n        \"dtype\": \"string\",\n        \"num_unique_values\": 14416,\n        \"samples\": [\n          \"\\u0641\\u064a\\u0641 \\u0639\\u062f \\u0645\\u0633\\u0628\\u0648\\u0642 \\u0623\\u0633 \\u0639\\u0627\\u0644\\u0645 \\u0645\\u0639\\u0627\\u064a\\u064a\\u0631 \\u062d\\u0641\\u0627\\u0638 \\u0628\\u064a\\u0626 \\u062a\\u0643\\u0646\\u0648\\u0644\\u0648\\u062c \\u0645\\u0633\\u0628\\u0648\\u0642 \\u062d\\u0645\\u0644 \\u0634\\u0639\\u0627\\u0631 \\u0623\\u0633 \\u0639\\u0627\\u0644\\u0645 \\u0644\\u0645 \\u0644\\u0627 \\u0645\\u0648\\u0633 \\u0639\\u0646 yallavamos yallavamos fifaworldcup morocco portugal spain \\u0645\\u063a\\u0631\\u0628 \\u0628\\u0631\\u062a\\u063a\\u0627\\u0644 \\u0627\\u0633\\u0628\\u0627\\u0646\\u064a\",\n          \"arr\\u00eater aboyer tout jour chose gouvernement marocain \\u00e9lite marocain roi maroc m\\u00e9dia marocain faire bout tissu parler art contemporain\",\n          \"\\u062d\\u0643\\u0648\\u0645 \\u0639\\u0628\\u0631 \\u0628\\u0646 \\u0645\\u0648\\u0633 \\u0642\\u062c\\u0639 \\u062e\\u0630 \\u062f\\u064a \\u0627\\u0633\\u0645 \\u0628\\u0644\\u0627\\u062f \\u0648\\u0633\\u064a\\u0639 \\u0644\\u063a \\u0641\\u0631\\u0646\\u0633 \\u0645\\u063a\\u0631\\u0628 \\u062f\\u0627\\u062e\\u0644 \\u062a\\u0639\\u0644\\u064a\\u0645 \\u0643\\u0648 \\u0645\\u063a\\u0627\\u0631\\u0628 \\u062f\\u064a\\u0646 \\u062c\\u064a\\u0648\\u0628 \\u062f\\u064a \\u0631\\u0633\\u064a\\u062e \\u063a\\u0629 \\u0645\\u0635\\u0646\\u0641 \\u062a\\u0627\\u0633\\u0639 \\u0639\\u0627\\u0644\\u0645\\u064a \\u0645\\u0627\\u0645 \\u063a\\u0629 \\u062d\\u062a\\u0644 \\u0631\\u062a\\u0628 \\u0631\\u0627\\u0628\\u0639 \\u062f\\u064a \\u062c\\u0644 \\u0631\\u0633\\u064a\\u062e \\u063a\\u0629 \\u062f\\u0627\\u0626 \\u0641\\u0642\\u062f \\u062a\\u0646\\u0627\\u0641\\u0633 \\u0648\\u0645\\u064a\"\n        ],\n        \"semantic_type\": \"\",\n        \"description\": \"\"\n      }\n    },\n    {\n      \"column\": \"lang\",\n      \"properties\": {\n        \"dtype\": \"category\",\n        \"num_unique_values\": 3,\n        \"samples\": [\n          \"ar\",\n          \"en\",\n          \"fr\"\n        ],\n        \"semantic_type\": \"\",\n        \"description\": \"\"\n      }\n    },\n    {\n      \"column\": \"topic\",\n      \"properties\": {\n        \"dtype\": \"category\",\n        \"num_unique_values\": 8,\n        \"samples\": [\n          \"Culture\",\n          \"Sport\",\n          \"Economy\"\n        ],\n        \"semantic_type\": \"\",\n        \"description\": \"\"\n      }\n    }\n  ]\n}"
            }
          },
          "metadata": {},
          "execution_count": 9
        }
      ]
    },
    {
      "cell_type": "code",
      "source": [
        "X, y, vectorizer = feature_extraction(processed_data,TfidfVectorizer()) # CountVectorizer() by default\n",
        "X_train, X_val, X_test, y_train, y_val, y_test = split_data(X, y)"
      ],
      "metadata": {
        "id": "WBuCJoDEcubt"
      },
      "execution_count": null,
      "outputs": []
    },
    {
      "cell_type": "markdown",
      "source": [
        "# Models"
      ],
      "metadata": {
        "id": "U5sBz552nLYv"
      }
    },
    {
      "cell_type": "markdown",
      "source": [
        " ## SVM"
      ],
      "metadata": {
        "id": "gvTt9MfEGseT"
      }
    },
    {
      "cell_type": "code",
      "source": [
        "# Initial model training and evaluation on validation set\n",
        "classifier, val_accuracy, val_report = train_evaluate_model(X_train, y_train, X_val, y_val,SVC(kernel='rbf'))"
      ],
      "metadata": {
        "id": "5dn7s6K9HdRZ"
      },
      "execution_count": null,
      "outputs": []
    },
    {
      "cell_type": "code",
      "source": [
        "print(\"Initial Validation Accuracy:\", val_accuracy)\n",
        "print(\"Initial Validation Classification Report:\\n\", val_report)"
      ],
      "metadata": {
        "id": "-p83cchJkln0"
      },
      "execution_count": null,
      "outputs": []
    },
    {
      "cell_type": "code",
      "source": [
        "param_grid = {\n",
        "    'C': [0.1, 1, 10, 100],\n",
        "    'kernel': ['linear', 'poly', 'rbf', 'sigmoid'],\n",
        "    'gamma': ['scale', 'auto'] + list(np.logspace(-3, 2, 6))\n",
        "}\n",
        "\n",
        "best_classifier, best_params = tune_hyperparameters_random(X_train, y_train,param_dist=param_grid,classifier=SVC())\n",
        "\n",
        "y_val_pred = best_classifier.predict(X_val)\n",
        "\n",
        "tuned_val_accuracy = accuracy_score(y_val, y_val_pred)\n",
        "tuned_val_report = classification_report(y_val, y_val_pred)"
      ],
      "metadata": {
        "id": "MZJjsLEtOXwd"
      },
      "execution_count": null,
      "outputs": []
    },
    {
      "cell_type": "code",
      "source": [
        "print(\"Tuned Validation Accuracy:\", tuned_val_accuracy)\n",
        "print(\"Tuned Validation Classification Report:\\n\", tuned_val_report)\n",
        "print(\"Best Hyperparameters:\", best_params)"
      ],
      "metadata": {
        "id": "QRfPpWU3knK6"
      },
      "execution_count": null,
      "outputs": []
    },
    {
      "cell_type": "code",
      "source": [
        "# Evaluate the best model on the test set\n",
        "y_test_pred = best_classifier.predict(X_test)\n",
        "final_test_accuracy = accuracy_score(y_test, y_test_pred)\n",
        "final_test_report = classification_report(y_test, y_test_pred)"
      ],
      "metadata": {
        "id": "VwJEhdb-HnS-"
      },
      "execution_count": null,
      "outputs": []
    },
    {
      "cell_type": "code",
      "source": [
        "print(\"Final Test Accuracy:\", final_test_accuracy)\n",
        "print(\"Final Test Classification Report:\\n\", final_test_report)"
      ],
      "metadata": {
        "id": "VDyAImN5FlCa"
      },
      "execution_count": null,
      "outputs": []
    },
    {
      "cell_type": "markdown",
      "source": [
        " ## RandomForestClassifier"
      ],
      "metadata": {
        "id": "JC7ChpMlOpNE"
      }
    },
    {
      "cell_type": "code",
      "source": [
        "# Initial model training and evaluation on validation set\n",
        "classifier, val_accuracy, val_report = train_evaluate_model(X_train, y_train, X_val, y_val,RandomForestClassifier())"
      ],
      "metadata": {
        "id": "uDinOEYLOpNH"
      },
      "execution_count": null,
      "outputs": []
    },
    {
      "cell_type": "code",
      "source": [
        "print(\"Initial Validation Accuracy:\", val_accuracy)\n",
        "print(\"Initial Validation Classification Report:\\n\", val_report)"
      ],
      "metadata": {
        "id": "wqp9J3PVFXCa"
      },
      "execution_count": null,
      "outputs": []
    },
    {
      "cell_type": "code",
      "source": [
        "param_grid = {\n",
        "    'n_estimators': [100, 200, 300, 400, 500],\n",
        "    'max_features': ['auto', 'sqrt', 'log2'],\n",
        "    'max_depth': [10, 20, 30, 40, 50, None],\n",
        "    'min_samples_split': [2, 5, 10],\n",
        "    'min_samples_leaf': [1, 2, 4],\n",
        "    'bootstrap': [True, False]\n",
        "}\n",
        "\n",
        "best_classifier, best_params = tune_hyperparameters_random(X_train, y_train,param_dist=param_grid,classifier=RandomForestClassifier(random_state=42))\n",
        "y_val_pred = best_classifier.predict(X_val)\n",
        "\n",
        "tuned_val_accuracy = accuracy_score(y_val, y_val_pred)\n",
        "tuned_val_report = classification_report(y_val, y_val_pred)"
      ],
      "metadata": {
        "id": "TGRR-IDPOpNK"
      },
      "execution_count": null,
      "outputs": []
    },
    {
      "cell_type": "code",
      "source": [
        "print(\"Tuned Validation Accuracy:\", tuned_val_accuracy)\n",
        "print(\"Tuned Validation Classification Report:\\n\", tuned_val_report)\n",
        "print(\"Best Hyperparameters:\", best_params)"
      ],
      "metadata": {
        "id": "86w7PuVlFahS"
      },
      "execution_count": null,
      "outputs": []
    },
    {
      "cell_type": "code",
      "source": [
        "# Evaluate the best model on the test set\n",
        "y_test_pred = best_classifier.predict(X_test)\n",
        "final_test_accuracy = accuracy_score(y_test, y_test_pred)\n",
        "final_test_report = classification_report(y_test, y_test_pred)"
      ],
      "metadata": {
        "id": "Aq8I_3ZoOpNL"
      },
      "execution_count": null,
      "outputs": []
    },
    {
      "cell_type": "code",
      "source": [
        "print(\"Final Test Accuracy:\", final_test_accuracy)\n",
        "print(\"Final Test Classification Report:\\n\", final_test_report)"
      ],
      "metadata": {
        "id": "rrFz996XFcIB"
      },
      "execution_count": null,
      "outputs": []
    },
    {
      "cell_type": "markdown",
      "source": [
        " ## Decision Tree"
      ],
      "metadata": {
        "id": "q_3BWFlKSgWk"
      }
    },
    {
      "cell_type": "code",
      "source": [
        "# Initial model training and evaluation on validation set\n",
        "classifier, val_accuracy, val_report = train_evaluate_model(X_train, y_train, X_val, y_val,DecisionTreeClassifier()) # with CountVectorizer"
      ],
      "metadata": {
        "id": "GZXmjUbiSgWm"
      },
      "execution_count": null,
      "outputs": []
    },
    {
      "cell_type": "code",
      "source": [
        "print(\"Initial Validation Accuracy:\", val_accuracy)\n",
        "print(\"Initial Validation Classification Report:\\n\", val_report)"
      ],
      "metadata": {
        "id": "gIERDD1JFPCH"
      },
      "execution_count": null,
      "outputs": []
    },
    {
      "cell_type": "code",
      "source": [
        "param_grid = {\n",
        "    'criterion': ['gini', 'entropy'],\n",
        "    'splitter': ['best', 'random'],\n",
        "    'max_depth': [None, 10, 20, 30, 40, 50],\n",
        "    'min_samples_split': [2, 5, 10],\n",
        "    'min_samples_leaf': [1, 2, 4],\n",
        "    'max_features': [None, 'auto', 'sqrt', 'log2']\n",
        "}\n",
        "\n",
        "best_classifier, best_params = tune_hyperparameters_random(X_train, y_train,param_dist=param_grid,classifier=DecisionTreeClassifier(random_state=42))\n",
        "\n",
        "y_val_pred = best_classifier.predict(X_val)\n",
        "\n",
        "tuned_val_accuracy = accuracy_score(y_val, y_val_pred)\n",
        "tuned_val_report = classification_report(y_val, y_val_pred)"
      ],
      "metadata": {
        "id": "d2RYiApHSgWo"
      },
      "execution_count": null,
      "outputs": []
    },
    {
      "cell_type": "code",
      "source": [
        "print(\"Tuned Validation Accuracy:\", tuned_val_accuracy)\n",
        "print(\"Tuned Validation Classification Report:\\n\", tuned_val_report)\n",
        "print(\"Best Hyperparameters:\", best_params)"
      ],
      "metadata": {
        "id": "SYea_rV8FRUj"
      },
      "execution_count": null,
      "outputs": []
    },
    {
      "cell_type": "code",
      "source": [
        "# Evaluate the best model on the test set\n",
        "y_test_pred = best_classifier.predict(X_test)\n",
        "final_test_accuracy = accuracy_score(y_test, y_test_pred)\n",
        "final_test_report = classification_report(y_test, y_test_pred)"
      ],
      "metadata": {
        "id": "-kJnBHmFSgWp"
      },
      "execution_count": null,
      "outputs": []
    },
    {
      "cell_type": "code",
      "source": [
        "print(\"Final Test Accuracy:\", final_test_accuracy)\n",
        "print(\"Final Test Classification Report:\\n\", final_test_report)"
      ],
      "metadata": {
        "id": "boC88sWIFSaB"
      },
      "execution_count": null,
      "outputs": []
    },
    {
      "cell_type": "markdown",
      "source": [
        " ## Logistic Regression"
      ],
      "metadata": {
        "id": "1tSr_9_PnBR4"
      }
    },
    {
      "cell_type": "code",
      "source": [
        "# Initial model training and evaluation on validation set\n",
        "classifier, val_accuracy, val_report = train_evaluate_model(X_train, y_train, X_val, y_val,LogisticRegression(max_iter=1000))"
      ],
      "metadata": {
        "id": "uSHigVfXnBR8"
      },
      "execution_count": null,
      "outputs": []
    },
    {
      "cell_type": "code",
      "source": [
        "print(\"Initial Validation Accuracy:\", val_accuracy)\n",
        "print(\"Initial Validation Classification Report:\\n\", val_report)"
      ],
      "metadata": {
        "id": "J-FEj5jiFKPr"
      },
      "execution_count": null,
      "outputs": []
    },
    {
      "cell_type": "code",
      "source": [
        "param_grid = {\n",
        "    'penalty': ['l1', 'l2', 'elasticnet', 'none'],\n",
        "    'C': [0.01, 0.1, 1, 10, 100],\n",
        "    'solver': ['newton-cg', 'lbfgs', 'liblinear', 'sag', 'saga'],\n",
        "    'max_iter': [100, 200, 300],\n",
        "    'l1_ratio': np.linspace(0, 1, 10)  # Only used if penalty='elasticnet'\n",
        "}\n",
        "\n",
        "best_classifier, best_params = tune_hyperparameters_random(X_train, y_train,param_dist=param_grid,classifier=LogisticRegression(random_state=42))\n",
        "y_val_pred = best_classifier.predict(X_val)\n",
        "\n",
        "tuned_val_accuracy = accuracy_score(y_val, y_val_pred)\n",
        "tuned_val_report = classification_report(y_val, y_val_pred)"
      ],
      "metadata": {
        "id": "0aw2ePwgnBR-"
      },
      "execution_count": null,
      "outputs": []
    },
    {
      "cell_type": "code",
      "source": [
        "print(\"Tuned Validation Accuracy:\", tuned_val_accuracy)\n",
        "print(\"Tuned Validation Classification Report:\\n\", tuned_val_report)\n",
        "print(\"Best Hyperparameters:\", best_params)"
      ],
      "metadata": {
        "id": "wrxz77vfE_6E"
      },
      "execution_count": null,
      "outputs": []
    },
    {
      "cell_type": "code",
      "source": [
        "# Evaluate the best model on the test set\n",
        "y_test_pred = best_classifier.predict(X_test)\n",
        "final_test_accuracy = accuracy_score(y_test, y_test_pred)\n",
        "final_test_report = classification_report(y_test, y_test_pred)"
      ],
      "metadata": {
        "id": "kHDJBN3anBSA"
      },
      "execution_count": null,
      "outputs": []
    },
    {
      "cell_type": "code",
      "source": [
        "print(\"Final Test Accuracy:\", final_test_accuracy)\n",
        "print(\"Final Test Classification Report:\\n\", final_test_report)"
      ],
      "metadata": {
        "id": "xjlUuE__FByu"
      },
      "execution_count": null,
      "outputs": []
    },
    {
      "cell_type": "markdown",
      "source": [
        " ## ANN"
      ],
      "metadata": {
        "id": "a_Eq7K_ynCAh"
      }
    },
    {
      "cell_type": "code",
      "source": [],
      "metadata": {
        "id": "7HDXHvWdsqng"
      },
      "execution_count": null,
      "outputs": []
    }
  ]
}